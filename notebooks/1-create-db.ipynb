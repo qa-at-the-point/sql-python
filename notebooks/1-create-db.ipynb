{
 "cells": [
  {
   "cell_type": "markdown",
   "metadata": {},
   "source": [
    "# Create a Database\n",
    "\n",
    "We will be working with Super Heroes to illustrate working with DBs to match the same example as SQLModel's [official docs](https://sqlmodel.tiangolo.com/).\n",
    "\n",
    "The table we want to create will end up looking like this:\n",
    "\n",
    "| id | name        | secret_name   | age |\n",
    "|----|-------------|---------------|-----|\n",
    "| 1  | Deadpond    | Dive Wilson   | null|\n",
    "| 2  | Spider-Boy  | Pedro Parqueador | null|\n",
    "| 3  | Rusty-Man   | Tommy Sharp   | 48  |"
   ]
  },
  {
   "cell_type": "markdown",
   "metadata": {
    "slideshow": {
     "slide_type": "subslide"
    }
   },
   "source": [
    "## Using raw SQL\n",
    "\n",
    "Obviously, we _can_ use SQL directly, but this would only work in a SQL Client or as a single string, which won't give you any linting, type checking, auto-complete, etc:"
   ]
  },
  {
   "cell_type": "code",
   "execution_count": null,
   "metadata": {
    "tags": [],
    "vscode": {
     "languageId": "sql"
    }
   },
   "outputs": [],
   "source": [
    "-- Just an example. Running this doesn't do anything\n",
    "\n",
    "CREATE TABLE \"hero\" (\n",
    "  \"id\"  INTEGER,\n",
    "  \"name\"  TEXT NOT NULL,\n",
    "  \"secret_name\" TEXT NOT NULL,\n",
    "  \"age\" INTEGER,\n",
    "  PRIMARY KEY(\"id\")\n",
    ");\n"
   ]
  },
  {
   "cell_type": "markdown",
   "metadata": {},
   "source": [
    "## Use SQLModel\n",
    "\n",
    "Instead, we can use an Object-Relational Mapping (ORM) which is a fancy way of saying, \"Write SQL in a programming language\", like Python!\n",
    "\n",
    "> 💡 SQLModel is an ORM library that uses SQLAlchemy and Pydantic to work with databases\n",
    "\n",
    "We will:\n",
    "\n",
    "1. Define a table with SQLModel\n",
    "2. Create a SQLite database and table with SQLModel"
   ]
  },
  {
   "cell_type": "code",
   "execution_count": null,
   "metadata": {},
   "outputs": [],
   "source": [
    "from typing import Optional\n",
    "\n",
    "from sqlmodel import Field, SQLModel, create_engine\n",
    "\n",
    "\n",
    "# 1. Define the SQLModel class, with table=True which means this model corresponds to a database table\n",
    "class Hero(SQLModel, table=True):\n",
    "    # 2. Define attributes corresponding to columns of the table\n",
    "    id: Optional[int] = Field(default=None, primary_key=True)\n",
    "    name: str\n",
    "    secret_name: str\n",
    "    # 3. Optional, in this case, means that age can be an Integer or None (or NULL in SQL)\n",
    "    age: Optional[int] = None\n",
    "\n",
    "# 4. Define the database URL, in this case, a SQLite database\n",
    "sqlite_file_name = \"database.db\"\n",
    "sqlite_url = f\"sqlite:///{sqlite_file_name}\"\n",
    "\n",
    "# 5. Create the database engine, which is the object that handles the connection to the database\n",
    "engine = create_engine(sqlite_url, echo=True) # echo=True prints things to the console so you can see what's happening under the hood\n",
    "\n",
    "# 6. Create the database and table\n",
    "SQLModel.metadata.create_all(engine)"
   ]
  },
  {
   "cell_type": "markdown",
   "metadata": {},
   "source": [
    "## Download DB Browser for SQLite (free)\n",
    "\n",
    "We can use DB Browser which is a free DB Client for working with SQLite databases.\n",
    "\n",
    "It's completely free and can be installed from their [Official Downloads](https://sqlitebrowser.org/dl/) page.\n",
    "\n",
    "1. Download DB Browser\n",
    "2. Open DB Browser and click `Open Database`\n",
    "3. Find the `database.db` file that was created from the cell above\n",
    "4. Now you see the database and `hero` table!\n",
    "5. Click the `Execute SQL` tab and run any SQL against it\n"
   ]
  },
  {
   "cell_type": "code",
   "execution_count": null,
   "metadata": {
    "vscode": {
     "languageId": "sql"
    }
   },
   "outputs": [],
   "source": [
    "-- Run this in DB Browser\n",
    "SELECT * FROM hero"
   ]
  },
  {
   "cell_type": "markdown",
   "metadata": {},
   "source": [
    "> ❌ Nothing is returned... what gives??? We haven't created any heroes yet! You'll see that in the next notebook"
   ]
  },
  {
   "cell_type": "markdown",
   "metadata": {},
   "source": [
    "## Refactor Data Creation\n",
    "\n",
    "We'll restructure the code a bit to make it easier to **reuse**, **share**, and **test** by moving some things into functions. You could even put this whole thing into a python script to execute as needed!"
   ]
  },
  {
   "cell_type": "code",
   "execution_count": null,
   "metadata": {},
   "outputs": [],
   "source": [
    "from typing import Optional\n",
    "\n",
    "from sqlmodel import Field, SQLModel, create_engine\n",
    "\n",
    "\n",
    "class Hero(SQLModel, table=True):\n",
    "    id: Optional[int] = Field(default=None, primary_key=True)\n",
    "    name: str\n",
    "    secret_name: str\n",
    "    age: Optional[int] = None\n",
    "\n",
    "\n",
    "sqlite_file_name = \"database.db\"\n",
    "sqlite_url = f\"sqlite:///{sqlite_file_name}\"\n",
    "\n",
    "engine = create_engine(sqlite_url, echo=True)\n",
    "\n",
    "# Changes here ⬇️\n",
    "\n",
    "# 1. Create a function that creates the database and tables that can be reused\n",
    "def create_db_and_tables():\n",
    "    SQLModel.metadata.create_all(engine)\n"
   ]
  },
  {
   "cell_type": "code",
   "execution_count": null,
   "metadata": {},
   "outputs": [],
   "source": [
    "# You can import or run this function anywhere!\n",
    "create_db_and_tables()"
   ]
  },
  {
   "cell_type": "markdown",
   "metadata": {},
   "source": [
    "## Create Data with SQL\n",
    "\n",
    "Let's see an example of creating some data with SQL.\n",
    "\n",
    "```sql\n",
    "-- You can run this in DB Browser\n",
    "INSERT INTO \"hero\" (\"name\", \"secret_name\")\n",
    "VALUES (\"Deadpond\", \"Dive Wilson\");\n",
    "```\n",
    "\n",
    "This basically says:\n",
    "\n",
    "> Hey SQL database 👋, please INSERT something (create a record/row) INTO the table \"hero\".\n",
    ">\n",
    "> I want you to insert a row with some values in these specific columns:\n",
    ">\n",
    "> * \"name\"\n",
    "> * \"secret_name\"\n",
    ">\n",
    "> And the values I want you to put in these columns are:\n",
    "> \n",
    "> * \"Deadpond\"\n",
    "> * \"Dive Wilson\""
   ]
  },
  {
   "cell_type": "markdown",
   "metadata": {},
   "source": [
    "## Create Data with Python and SQLModel\n",
    "\n",
    "> ✋🏽 Delete the `database.db` file first so we start with a clean slate and `Restart` this notebook\n",
    "\n",
    "To do this, we need to create the data in Python first, and _then_ send it to our database.\n",
    "\n",
    "We'll start with the code you're already familiar with:"
   ]
  },
  {
   "cell_type": "code",
   "execution_count": 1,
   "metadata": {},
   "outputs": [],
   "source": [
    "from typing import Optional\n",
    "\n",
    "from sqlmodel import Field, Session, SQLModel, create_engine\n",
    "\n",
    "\n",
    "class Hero(SQLModel, table=True):\n",
    "    id: Optional[int] = Field(default=None, primary_key=True)\n",
    "    name: str\n",
    "    secret_name: str\n",
    "    age: Optional[int] = None\n",
    "\n",
    "\n",
    "sqlite_file_name = \"database.db\"\n",
    "sqlite_url = f\"sqlite:///{sqlite_file_name}\"\n",
    "\n",
    "engine = create_engine(sqlite_url, echo=True)\n",
    "\n",
    "\n",
    "def create_db_and_tables():\n",
    "    SQLModel.metadata.create_all(engine)"
   ]
  },
  {
   "cell_type": "markdown",
   "metadata": {},
   "source": [
    "Define a `create_heroes` function that will INSERT 3 heroes into our `hero` table"
   ]
  },
  {
   "cell_type": "code",
   "execution_count": 2,
   "metadata": {},
   "outputs": [],
   "source": [
    "def create_heroes():\n",
    "    # 1. Each hero we want to add is an instance of our Hero class\n",
    "    hero_1 = Hero(name=\"Deadpond\", secret_name=\"Dive Wilson\")\n",
    "    hero_2 = Hero(name=\"Spider-Boy\", secret_name=\"Pedro Parqueador\")\n",
    "    hero_3 = Hero(name=\"Rusty-Man\", secret_name=\"Tommy Sharp\", age=48)\n",
    "\n",
    "    # 2. We create a session to communicate with the database\n",
    "    #    Using the `with` statement is a good practice because it automatically closes the session when done\n",
    "    with Session(engine) as session:\n",
    "        # 3. We add each hero to the session\n",
    "        session.add(hero_1)\n",
    "        session.add(hero_2)\n",
    "        session.add(hero_3)\n",
    "\n",
    "        # 4. We commit the session to persist (aka \"send\") the data to the database\n",
    "        session.commit()\n"
   ]
  },
  {
   "cell_type": "markdown",
   "metadata": {},
   "source": [
    "We can make another function that will create the database, tables, _and_ heroes in one command!"
   ]
  },
  {
   "cell_type": "code",
   "execution_count": 3,
   "metadata": {},
   "outputs": [],
   "source": [
    "def main():\n",
    "    create_db_and_tables()\n",
    "    create_heroes()"
   ]
  },
  {
   "cell_type": "markdown",
   "metadata": {},
   "source": [
    "Now we have a single function we can import or use anywhere!"
   ]
  },
  {
   "cell_type": "code",
   "execution_count": 4,
   "metadata": {},
   "outputs": [
    {
     "name": "stdout",
     "output_type": "stream",
     "text": [
      "2023-12-14 15:39:04,320 INFO sqlalchemy.engine.Engine BEGIN (implicit)\n",
      "2023-12-14 15:39:04,322 INFO sqlalchemy.engine.Engine PRAGMA main.table_info(\"hero\")\n",
      "2023-12-14 15:39:04,323 INFO sqlalchemy.engine.Engine [raw sql] ()\n",
      "2023-12-14 15:39:04,325 INFO sqlalchemy.engine.Engine PRAGMA temp.table_info(\"hero\")\n",
      "2023-12-14 15:39:04,326 INFO sqlalchemy.engine.Engine [raw sql] ()\n",
      "2023-12-14 15:39:04,327 INFO sqlalchemy.engine.Engine \n",
      "CREATE TABLE hero (\n",
      "\tid INTEGER NOT NULL, \n",
      "\tname VARCHAR NOT NULL, \n",
      "\tsecret_name VARCHAR NOT NULL, \n",
      "\tage INTEGER, \n",
      "\tPRIMARY KEY (id)\n",
      ")\n",
      "\n",
      "\n",
      "2023-12-14 15:39:04,328 INFO sqlalchemy.engine.Engine [no key 0.00061s] ()\n",
      "2023-12-14 15:39:04,330 INFO sqlalchemy.engine.Engine COMMIT\n",
      "2023-12-14 15:39:04,333 INFO sqlalchemy.engine.Engine BEGIN (implicit)\n",
      "2023-12-14 15:39:04,337 INFO sqlalchemy.engine.Engine INSERT INTO hero (name, secret_name, age) VALUES (?, ?, ?) RETURNING id\n",
      "2023-12-14 15:39:04,339 INFO sqlalchemy.engine.Engine [generated in 0.00017s (insertmanyvalues) 1/3 (ordered; batch not supported)] ('Deadpond', 'Dive Wilson', None)\n",
      "2023-12-14 15:39:04,342 INFO sqlalchemy.engine.Engine INSERT INTO hero (name, secret_name, age) VALUES (?, ?, ?) RETURNING id\n",
      "2023-12-14 15:39:04,342 INFO sqlalchemy.engine.Engine [insertmanyvalues 2/3 (ordered; batch not supported)] ('Spider-Boy', 'Pedro Parqueador', None)\n",
      "2023-12-14 15:39:04,343 INFO sqlalchemy.engine.Engine INSERT INTO hero (name, secret_name, age) VALUES (?, ?, ?) RETURNING id\n",
      "2023-12-14 15:39:04,344 INFO sqlalchemy.engine.Engine [insertmanyvalues 3/3 (ordered; batch not supported)] ('Rusty-Man', 'Tommy Sharp', 48)\n",
      "2023-12-14 15:39:04,346 INFO sqlalchemy.engine.Engine COMMIT\n"
     ]
    }
   ],
   "source": [
    "main()"
   ]
  }
 ],
 "metadata": {
  "kernelspec": {
   "display_name": ".venv",
   "language": "python",
   "name": "python3"
  },
  "language_info": {
   "codemirror_mode": {
    "name": "ipython",
    "version": 3
   },
   "file_extension": ".py",
   "mimetype": "text/x-python",
   "name": "python",
   "nbconvert_exporter": "python",
   "pygments_lexer": "ipython3",
   "version": "3.10.1"
  }
 },
 "nbformat": 4,
 "nbformat_minor": 2
}
