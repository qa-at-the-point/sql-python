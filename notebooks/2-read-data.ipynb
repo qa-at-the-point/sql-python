{
 "cells": [
  {
   "cell_type": "markdown",
   "metadata": {},
   "source": [
    "# Read from a Database - SELECT\n",
    "\n",
    "> 🔗 You can see more detailed info at SQLModel's [official docs](https://sqlmodel.tiangolo.com/tutorial/select/)\n",
    "\n",
    "We will be using the same \"Heroes\" example from the previous notebook. Make sure to delete the `database.db` file to start with a clean slate!"
   ]
  },
  {
   "cell_type": "code",
   "execution_count": 1,
   "metadata": {},
   "outputs": [],
   "source": [
    "from typing import Optional\n",
    "\n",
    "from sqlmodel import Field, Session, SQLModel, create_engine\n",
    "\n",
    "\n",
    "class Hero(SQLModel, table=True):\n",
    "    id: Optional[int] = Field(default=None, primary_key=True)\n",
    "    name: str\n",
    "    secret_name: str\n",
    "    age: Optional[int] = None\n",
    "\n",
    "\n",
    "sqlite_file_name = \"database.db\"\n",
    "sqlite_url = f\"sqlite:///{sqlite_file_name}\"\n",
    "engine = create_engine(sqlite_url, echo=True)\n",
    "\n",
    "\n",
    "def create_db_and_tables():\n",
    "    SQLModel.metadata.create_all(engine)\n",
    "\n",
    "\n",
    "def create_heroes():\n",
    "    hero_1 = Hero(name=\"Deadpond\", secret_name=\"Dive Wilson\")\n",
    "    hero_2 = Hero(name=\"Spider-Boy\", secret_name=\"Pedro Parqueador\")\n",
    "    hero_3 = Hero(name=\"Rusty-Man\", secret_name=\"Tommy Sharp\", age=48)\n",
    "\n",
    "    with Session(engine) as session:\n",
    "        session.add(hero_1)\n",
    "        session.add(hero_2)\n",
    "        session.add(hero_3)\n",
    "        session.commit()\n",
    "\n",
    "\n",
    "def main():\n",
    "    create_db_and_tables()\n",
    "    create_heroes()\n"
   ]
  },
  {
   "cell_type": "code",
   "execution_count": 2,
   "metadata": {},
   "outputs": [
    {
     "name": "stdout",
     "output_type": "stream",
     "text": [
      "2023-12-14 16:34:00,208 INFO sqlalchemy.engine.Engine BEGIN (implicit)\n",
      "2023-12-14 16:34:00,210 INFO sqlalchemy.engine.Engine PRAGMA main.table_info(\"hero\")\n",
      "2023-12-14 16:34:00,211 INFO sqlalchemy.engine.Engine [raw sql] ()\n",
      "2023-12-14 16:34:00,213 INFO sqlalchemy.engine.Engine PRAGMA temp.table_info(\"hero\")\n",
      "2023-12-14 16:34:00,213 INFO sqlalchemy.engine.Engine [raw sql] ()\n",
      "2023-12-14 16:34:00,215 INFO sqlalchemy.engine.Engine \n",
      "CREATE TABLE hero (\n",
      "\tid INTEGER NOT NULL, \n",
      "\tname VARCHAR NOT NULL, \n",
      "\tsecret_name VARCHAR NOT NULL, \n",
      "\tage INTEGER, \n",
      "\tPRIMARY KEY (id)\n",
      ")\n",
      "\n",
      "\n",
      "2023-12-14 16:34:00,216 INFO sqlalchemy.engine.Engine [no key 0.00060s] ()\n",
      "2023-12-14 16:34:00,218 INFO sqlalchemy.engine.Engine COMMIT\n",
      "2023-12-14 16:34:00,221 INFO sqlalchemy.engine.Engine BEGIN (implicit)\n",
      "2023-12-14 16:34:00,224 INFO sqlalchemy.engine.Engine INSERT INTO hero (name, secret_name, age) VALUES (?, ?, ?) RETURNING id\n",
      "2023-12-14 16:34:00,225 INFO sqlalchemy.engine.Engine [generated in 0.00017s (insertmanyvalues) 1/3 (ordered; batch not supported)] ('Deadpond', 'Dive Wilson', None)\n",
      "2023-12-14 16:34:00,226 INFO sqlalchemy.engine.Engine INSERT INTO hero (name, secret_name, age) VALUES (?, ?, ?) RETURNING id\n",
      "2023-12-14 16:34:00,227 INFO sqlalchemy.engine.Engine [insertmanyvalues 2/3 (ordered; batch not supported)] ('Spider-Boy', 'Pedro Parqueador', None)\n",
      "2023-12-14 16:34:00,227 INFO sqlalchemy.engine.Engine INSERT INTO hero (name, secret_name, age) VALUES (?, ?, ?) RETURNING id\n",
      "2023-12-14 16:34:00,228 INFO sqlalchemy.engine.Engine [insertmanyvalues 3/3 (ordered; batch not supported)] ('Rusty-Man', 'Tommy Sharp', 48)\n",
      "2023-12-14 16:34:00,230 INFO sqlalchemy.engine.Engine COMMIT\n"
     ]
    }
   ],
   "source": [
    "# Run this cell to create the database, tables, and heroes\n",
    "main()"
   ]
  },
  {
   "cell_type": "markdown",
   "metadata": {},
   "source": [
    "## Read Data with SQL\n",
    "\n",
    "```sql\n",
    "SELECT id, name, secret_name, age\n",
    "FROM hero\n",
    "```\n",
    "\n",
    "This says, more or less:\n",
    "\n",
    "> Hey SQL database 👋, please go and SELECT some data for me.\n",
    ">\n",
    "> I'll first tell you the columns I want:\n",
    "> \n",
    "> * id\n",
    "> * name\n",
    "> * secret_name\n",
    "> * age\n",
    ">\n",
    "> And I want you to get them FROM the table called `\"hero\"`\n",
    "\n",
    "Then it will return data that matches the query:\n",
    "\n",
    "| id | name        | secret_name   | age |\n",
    "|----|-------------|---------------|-----|\n",
    "| 1  | Deadpond    | Dive Wilson   | null|\n",
    "| 2  | Spider-Boy  | Pedro Parqueador | null|\n",
    "| 3  | Rusty-Man   | Tommy Sharp   | 48  |\n",
    "\n",
    "### Challenge\n",
    "\n",
    "Give this a try in DB Browser! See if you can return data for _only_ the `id` and `name` columns.\n",
    "\n",
    "### Good to know\n",
    "\n",
    "Relational Databases store their data in tables and return the data in tables! However, you can query the database's _multiple_ tables and return it all back in a _single_ table!"
   ]
  },
  {
   "cell_type": "markdown",
   "metadata": {},
   "source": [
    "## Read Data with Python and SQLModel\n",
    "\n",
    "To do this, we will:\n",
    "\n",
    "1. Create a Session to work with the DB\n",
    "2. Create a `select` statement\n",
    "3. Execute the statement\n",
    "4. Work with the results"
   ]
  },
  {
   "cell_type": "code",
   "execution_count": 3,
   "metadata": {},
   "outputs": [],
   "source": [
    "# Importing here to keep the relevant code together, but this would go in the imports section at the top of the file\n",
    "from sqlmodel import select\n",
    "\n",
    "# Define a function to select all heroes from the database. Maybe we could call it `get_all_heroes`?\n",
    "def select_heroes():\n",
    "    # 1. Any time we want to interact with the database, we need to create a session\n",
    "    with Session(engine) as session:\n",
    "        # 2. We define a statement to select all heroes\n",
    "        statement = select(Hero)\n",
    "        # 3. We execute the statement and store the results in a variable\n",
    "        results = session.exec(statement)\n",
    "        # 4. We can do anything with the results, like printing them one by one\n",
    "        for hero in results:\n",
    "            print(hero)"
   ]
  },
  {
   "cell_type": "markdown",
   "metadata": {},
   "source": [
    "`statement = select(Hero)` is the same as this SQL:\n",
    "\n",
    "```sql\n",
    "select * from hero\n",
    "```\n",
    "\n",
    "Which means that it will return all columns and values from the `hero` table"
   ]
  },
  {
   "cell_type": "code",
   "execution_count": 4,
   "metadata": {},
   "outputs": [
    {
     "name": "stdout",
     "output_type": "stream",
     "text": [
      "2023-12-14 16:34:08,212 INFO sqlalchemy.engine.Engine BEGIN (implicit)\n",
      "2023-12-14 16:34:08,216 INFO sqlalchemy.engine.Engine SELECT hero.id, hero.name, hero.secret_name, hero.age \n",
      "FROM hero\n",
      "2023-12-14 16:34:08,218 INFO sqlalchemy.engine.Engine [generated in 0.00139s] ()\n",
      "secret_name='Dive Wilson' age=None id=1 name='Deadpond'\n",
      "secret_name='Pedro Parqueador' age=None id=2 name='Spider-Boy'\n",
      "secret_name='Tommy Sharp' age=48 id=3 name='Rusty-Man'\n",
      "2023-12-14 16:34:08,220 INFO sqlalchemy.engine.Engine ROLLBACK\n"
     ]
    }
   ],
   "source": [
    "# Call this function to see the results\n",
    "select_heroes()"
   ]
  },
  {
   "cell_type": "markdown",
   "metadata": {},
   "source": [
    "## Get Hereos in a List instead of an Iterable\n",
    "\n",
    "Up to now we are using the results to iterate over them.\n",
    "\n",
    "But for different reasons you might want to have the full list of Hero objects right away instead of just an iterable. For example, if you want to return them in a web API.\n",
    "\n",
    "The special results object also has a method results.all() that returns a list with all the objects:"
   ]
  },
  {
   "cell_type": "code",
   "execution_count": 5,
   "metadata": {},
   "outputs": [],
   "source": [
    "def select_heroes():\n",
    "    with Session(engine) as session:\n",
    "        statement = select(Hero)\n",
    "        results = session.exec(statement)\n",
    "        heroes = results.all()\n",
    "        return heroes"
   ]
  },
  {
   "cell_type": "code",
   "execution_count": 6,
   "metadata": {},
   "outputs": [
    {
     "name": "stdout",
     "output_type": "stream",
     "text": [
      "2023-12-14 16:34:12,384 INFO sqlalchemy.engine.Engine BEGIN (implicit)\n",
      "2023-12-14 16:34:12,386 INFO sqlalchemy.engine.Engine SELECT hero.id, hero.name, hero.secret_name, hero.age \n",
      "FROM hero\n",
      "2023-12-14 16:34:12,388 INFO sqlalchemy.engine.Engine [cached since 4.171s ago] ()\n",
      "2023-12-14 16:34:12,389 INFO sqlalchemy.engine.Engine ROLLBACK\n"
     ]
    },
    {
     "data": {
      "text/plain": [
       "[Hero(secret_name='Dive Wilson', age=None, id=1, name='Deadpond'),\n",
       " Hero(secret_name='Pedro Parqueador', age=None, id=2, name='Spider-Boy'),\n",
       " Hero(secret_name='Tommy Sharp', age=48, id=3, name='Rusty-Man')]"
      ]
     },
     "execution_count": 6,
     "metadata": {},
     "output_type": "execute_result"
    }
   ],
   "source": [
    "select_heroes()"
   ]
  },
  {
   "cell_type": "markdown",
   "metadata": {},
   "source": [
    "We can also write this in a more compact form"
   ]
  },
  {
   "cell_type": "code",
   "execution_count": 7,
   "metadata": {},
   "outputs": [
    {
     "name": "stdout",
     "output_type": "stream",
     "text": [
      "2023-12-14 16:34:14,117 INFO sqlalchemy.engine.Engine BEGIN (implicit)\n",
      "2023-12-14 16:34:14,120 INFO sqlalchemy.engine.Engine SELECT hero.id, hero.name, hero.secret_name, hero.age \n",
      "FROM hero\n",
      "2023-12-14 16:34:14,121 INFO sqlalchemy.engine.Engine [cached since 5.905s ago] ()\n",
      "2023-12-14 16:34:14,122 INFO sqlalchemy.engine.Engine ROLLBACK\n"
     ]
    },
    {
     "data": {
      "text/plain": [
       "[Hero(secret_name='Dive Wilson', age=None, id=1, name='Deadpond'),\n",
       " Hero(secret_name='Pedro Parqueador', age=None, id=2, name='Spider-Boy'),\n",
       " Hero(secret_name='Tommy Sharp', age=48, id=3, name='Rusty-Man')]"
      ]
     },
     "execution_count": 7,
     "metadata": {},
     "output_type": "execute_result"
    }
   ],
   "source": [
    "def select_heroes():\n",
    "    with Session(engine) as session:\n",
    "        heroes = session.exec(select(Hero)).all()\n",
    "        return heroes\n",
    "\n",
    "select_heroes()"
   ]
  }
 ],
 "metadata": {
  "kernelspec": {
   "display_name": ".venv",
   "language": "python",
   "name": "python3"
  },
  "language_info": {
   "codemirror_mode": {
    "name": "ipython",
    "version": 3
   },
   "file_extension": ".py",
   "mimetype": "text/x-python",
   "name": "python",
   "nbconvert_exporter": "python",
   "pygments_lexer": "ipython3",
   "version": "3.10.1"
  }
 },
 "nbformat": 4,
 "nbformat_minor": 2
}
