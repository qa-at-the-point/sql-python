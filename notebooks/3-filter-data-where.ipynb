{
 "cells": [
  {
   "cell_type": "markdown",
   "metadata": {},
   "source": [
    "# Filter Data - WHERE\n",
    "\n",
    "> 🔗 You can see more detailed info at SQLModel's [official docs](https://sqlmodel.tiangolo.com/tutorial/where/)\n",
    "\n",
    "We will be using the same \"Heroes\" example from the previous notebooks. Make sure to delete the `database.db` file to start with a clean slate!"
   ]
  },
  {
   "cell_type": "markdown",
   "metadata": {},
   "source": [
    "## Why filter data?\n",
    "\n",
    "In the previous notebooks, were we querying tables and returning _ALL_ the data. With a big database, that could be a very expensive query (ie money and time), so it's more common to add filters to your queries to return only the rows of data you really need.\n",
    "\n",
    "> Run the next cell to get our initial code defined and our database created with heroes"
   ]
  },
  {
   "cell_type": "code",
   "execution_count": 1,
   "metadata": {},
   "outputs": [
    {
     "name": "stdout",
     "output_type": "stream",
     "text": [
      "2023-12-14 17:28:42,449 INFO sqlalchemy.engine.Engine BEGIN (implicit)\n",
      "2023-12-14 17:28:42,449 INFO sqlalchemy.engine.Engine PRAGMA main.table_info(\"hero\")\n",
      "2023-12-14 17:28:42,450 INFO sqlalchemy.engine.Engine [raw sql] ()\n",
      "2023-12-14 17:28:42,450 INFO sqlalchemy.engine.Engine PRAGMA temp.table_info(\"hero\")\n",
      "2023-12-14 17:28:42,451 INFO sqlalchemy.engine.Engine [raw sql] ()\n",
      "2023-12-14 17:28:42,451 INFO sqlalchemy.engine.Engine \n",
      "CREATE TABLE hero (\n",
      "\tid INTEGER NOT NULL, \n",
      "\tname VARCHAR NOT NULL, \n",
      "\tsecret_name VARCHAR NOT NULL, \n",
      "\tage INTEGER, \n",
      "\tPRIMARY KEY (id)\n",
      ")\n",
      "\n",
      "\n",
      "2023-12-14 17:28:42,452 INFO sqlalchemy.engine.Engine [no key 0.00027s] ()\n",
      "2023-12-14 17:28:42,453 INFO sqlalchemy.engine.Engine COMMIT\n",
      "2023-12-14 17:28:42,454 INFO sqlalchemy.engine.Engine BEGIN (implicit)\n",
      "2023-12-14 17:28:42,456 INFO sqlalchemy.engine.Engine INSERT INTO hero (name, secret_name, age) VALUES (?, ?, ?) RETURNING id\n",
      "2023-12-14 17:28:42,456 INFO sqlalchemy.engine.Engine [generated in 0.00009s (insertmanyvalues) 1/3 (ordered; batch not supported)] ('Deadpond', 'Dive Wilson', None)\n",
      "2023-12-14 17:28:42,457 INFO sqlalchemy.engine.Engine INSERT INTO hero (name, secret_name, age) VALUES (?, ?, ?) RETURNING id\n",
      "2023-12-14 17:28:42,457 INFO sqlalchemy.engine.Engine [insertmanyvalues 2/3 (ordered; batch not supported)] ('Spider-Boy', 'Pedro Parqueador', None)\n",
      "2023-12-14 17:28:42,457 INFO sqlalchemy.engine.Engine INSERT INTO hero (name, secret_name, age) VALUES (?, ?, ?) RETURNING id\n",
      "2023-12-14 17:28:42,458 INFO sqlalchemy.engine.Engine [insertmanyvalues 3/3 (ordered; batch not supported)] ('Rusty-Man', 'Tommy Sharp', 48)\n",
      "2023-12-14 17:28:42,458 INFO sqlalchemy.engine.Engine COMMIT\n"
     ]
    }
   ],
   "source": [
    "from typing import Optional\n",
    "\n",
    "from sqlmodel import Field, Session, SQLModel, create_engine, select\n",
    "\n",
    "\n",
    "class Hero(SQLModel, table=True):\n",
    "    id: Optional[int] = Field(default=None, primary_key=True)\n",
    "    name: str\n",
    "    secret_name: str\n",
    "    age: Optional[int] = None\n",
    "\n",
    "\n",
    "sqlite_file_name = \"database.db\"\n",
    "sqlite_url = f\"sqlite:///{sqlite_file_name}\"\n",
    "engine = create_engine(sqlite_url, echo=True)\n",
    "\n",
    "\n",
    "def create_db_and_tables():\n",
    "    SQLModel.metadata.create_all(engine)\n",
    "\n",
    "\n",
    "def create_heroes():\n",
    "    hero_1 = Hero(name=\"Deadpond\", secret_name=\"Dive Wilson\")\n",
    "    hero_2 = Hero(name=\"Spider-Boy\", secret_name=\"Pedro Parqueador\")\n",
    "    hero_3 = Hero(name=\"Rusty-Man\", secret_name=\"Tommy Sharp\", age=48)\n",
    "\n",
    "    with Session(engine) as session:\n",
    "        session.add(hero_1)\n",
    "        session.add(hero_2)\n",
    "        session.add(hero_3)\n",
    "        session.commit()\n",
    "\n",
    "\n",
    "def main():\n",
    "    create_db_and_tables()\n",
    "    create_heroes()\n",
    "\n",
    "main()"
   ]
  },
  {
   "cell_type": "markdown",
   "metadata": {},
   "source": [
    "## Filter Data with SQL\n",
    "\n",
    "```sql\n",
    "SELECT id, name, secret_name, age\n",
    "FROM hero\n",
    "WHERE name = \"Deadpond\"\n",
    "```\n",
    "\n",
    "The `WHERE` keyword (aka clause) adds a filter. The SQL query now reads a bit differently:\n",
    "\n",
    "> Select all columns from the `hero` table and return only the rows where name equals `\"Deadpond\"`\n",
    "\n",
    "Give this a try in DB Browser and see what you get!\n",
    "\n",
    "### Challenge\n",
    "\n",
    "Write a query that only returns the `name` and `age` columns from heroes that are older than 20.\n",
    "\n",
    "### Good to know\n",
    "\n",
    "* `SELECT` tells the databse which **columns** to return\n",
    "* `WHERE` tells the database which **rows** to return\n",
    "\n",
    "The size of the table in the two dimensions depend mostly on those two keywords.\n"
   ]
  },
  {
   "cell_type": "markdown",
   "metadata": {},
   "source": [
    "## Filter Data with SQLModel\n",
    "\n",
    "Now, the same way that we add `WHERE` to a SQL statement to filter rows, we can add a `.where()` to a SQLModel `select()`` statement to filter rows, which will filter the objects returned:"
   ]
  },
  {
   "cell_type": "code",
   "execution_count": 2,
   "metadata": {},
   "outputs": [
    {
     "name": "stdout",
     "output_type": "stream",
     "text": [
      "2023-12-14 17:28:50,259 INFO sqlalchemy.engine.Engine BEGIN (implicit)\n",
      "2023-12-14 17:28:50,264 INFO sqlalchemy.engine.Engine SELECT hero.id, hero.name, hero.secret_name, hero.age \n",
      "FROM hero \n",
      "WHERE hero.name = ?\n",
      "2023-12-14 17:28:50,265 INFO sqlalchemy.engine.Engine [generated in 0.00137s] ('Deadpond',)\n",
      "2023-12-14 17:28:50,267 INFO sqlalchemy.engine.Engine ROLLBACK\n"
     ]
    },
    {
     "data": {
      "text/plain": [
       "[Hero(secret_name='Dive Wilson', age=None, id=1, name='Deadpond')]"
      ]
     },
     "execution_count": 2,
     "metadata": {},
     "output_type": "execute_result"
    }
   ],
   "source": [
    "def select_heroes():\n",
    "    with Session(engine) as session:\n",
    "        statement = select(Hero).where(Hero.name == \"Deadpond\")\n",
    "        heroes = session.exec(statement).all()\n",
    "        return heroes\n",
    "\n",
    "select_heroes()"
   ]
  },
  {
   "cell_type": "markdown",
   "metadata": {},
   "source": [
    "### Chain `select()` objects\n",
    "\n",
    "To add multiple `where()` clauses, you can simply chain them together. For example, what do you think this function would return:"
   ]
  },
  {
   "cell_type": "code",
   "execution_count": 3,
   "metadata": {},
   "outputs": [
    {
     "name": "stdout",
     "output_type": "stream",
     "text": [
      "2023-12-14 17:28:53,022 INFO sqlalchemy.engine.Engine BEGIN (implicit)\n",
      "2023-12-14 17:28:53,025 INFO sqlalchemy.engine.Engine SELECT hero.id, hero.name, hero.secret_name, hero.age \n",
      "FROM hero \n",
      "WHERE hero.name != ? AND hero.age > ?\n",
      "2023-12-14 17:28:53,026 INFO sqlalchemy.engine.Engine [generated in 0.00105s] ('Deadpond', 20)\n",
      "2023-12-14 17:28:53,028 INFO sqlalchemy.engine.Engine ROLLBACK\n"
     ]
    },
    {
     "data": {
      "text/plain": [
       "[Hero(secret_name='Tommy Sharp', age=48, id=3, name='Rusty-Man')]"
      ]
     },
     "execution_count": 3,
     "metadata": {},
     "output_type": "execute_result"
    }
   ],
   "source": [
    "def select_heroes():\n",
    "    with Session(engine) as session:\n",
    "        # Notice how we can use regular Python operators in the where clauses\n",
    "        statement = select(Hero).where(Hero.name != \"Deadpond\").where(Hero.age > 20)\n",
    "        heroes = session.exec(statement).all()\n",
    "        return heroes\n",
    "\n",
    "select_heroes()"
   ]
  },
  {
   "cell_type": "markdown",
   "metadata": {},
   "source": [
    "### Refactor our query function\n",
    "\n",
    "Our `select_heroes` function has `\"Deadpond\"` hard-coded, but what if we wanted to reuse the same function to get different heroes?\n",
    "\n",
    "Instead of writing a new function for each name, we could use parameters:"
   ]
  },
  {
   "cell_type": "code",
   "execution_count": 4,
   "metadata": {},
   "outputs": [
    {
     "name": "stdout",
     "output_type": "stream",
     "text": [
      "2023-12-14 17:28:59,119 INFO sqlalchemy.engine.Engine BEGIN (implicit)\n",
      "2023-12-14 17:28:59,121 INFO sqlalchemy.engine.Engine SELECT hero.id, hero.name, hero.secret_name, hero.age \n",
      "FROM hero \n",
      "WHERE hero.name = ?\n",
      "2023-12-14 17:28:59,122 INFO sqlalchemy.engine.Engine [cached since 8.858s ago] ('Spider-Boy',)\n",
      "2023-12-14 17:28:59,123 INFO sqlalchemy.engine.Engine ROLLBACK\n"
     ]
    },
    {
     "data": {
      "text/plain": [
       "[Hero(secret_name='Pedro Parqueador', age=None, id=2, name='Spider-Boy')]"
      ]
     },
     "execution_count": 4,
     "metadata": {},
     "output_type": "execute_result"
    }
   ],
   "source": [
    "# (optional, but recommended) I've added type hints to the function signature\n",
    "def select_heroes_by_name(name: str) -> list[Hero]:\n",
    "    with Session(engine) as session:\n",
    "        # Notice how we are using the parameter in the where clause\n",
    "        statement = select(Hero).where(Hero.name == name)\n",
    "        heroes = session.exec(statement).all()\n",
    "        return heroes\n",
    "\n",
    "select_heroes_by_name(name=\"Spider-Boy\")"
   ]
  },
  {
   "cell_type": "markdown",
   "metadata": {},
   "source": [
    "## Add more data\n",
    "\n",
    "To continue exploring and experimenting with `SELECT` and `WHERE`, let's add some more data."
   ]
  },
  {
   "cell_type": "code",
   "execution_count": 5,
   "metadata": {},
   "outputs": [
    {
     "name": "stdout",
     "output_type": "stream",
     "text": [
      "2023-12-14 17:29:01,693 INFO sqlalchemy.engine.Engine BEGIN (implicit)\n",
      "2023-12-14 17:29:01,695 INFO sqlalchemy.engine.Engine INSERT INTO hero (name, secret_name, age) VALUES (?, ?, ?) RETURNING id\n",
      "2023-12-14 17:29:01,696 INFO sqlalchemy.engine.Engine [cached since 19.24s ago (insertmanyvalues) 1/7 (ordered; batch not supported)] ('Deadpond', 'Dive Wilson', None)\n",
      "2023-12-14 17:29:01,698 INFO sqlalchemy.engine.Engine INSERT INTO hero (name, secret_name, age) VALUES (?, ?, ?) RETURNING id\n",
      "2023-12-14 17:29:01,704 INFO sqlalchemy.engine.Engine [insertmanyvalues 2/7 (ordered; batch not supported)] ('Spider-Boy', 'Pedro Parqueador', None)\n",
      "2023-12-14 17:29:01,708 INFO sqlalchemy.engine.Engine INSERT INTO hero (name, secret_name, age) VALUES (?, ?, ?) RETURNING id\n",
      "2023-12-14 17:29:01,712 INFO sqlalchemy.engine.Engine [insertmanyvalues 3/7 (ordered; batch not supported)] ('Rusty-Man', 'Tommy Sharp', 48)\n",
      "2023-12-14 17:29:01,717 INFO sqlalchemy.engine.Engine INSERT INTO hero (name, secret_name, age) VALUES (?, ?, ?) RETURNING id\n",
      "2023-12-14 17:29:01,719 INFO sqlalchemy.engine.Engine [insertmanyvalues 4/7 (ordered; batch not supported)] ('Tarantula', 'Natalia Roman-on', 32)\n",
      "2023-12-14 17:29:01,722 INFO sqlalchemy.engine.Engine INSERT INTO hero (name, secret_name, age) VALUES (?, ?, ?) RETURNING id\n",
      "2023-12-14 17:29:01,726 INFO sqlalchemy.engine.Engine [insertmanyvalues 5/7 (ordered; batch not supported)] ('Black Lion', 'Trevor Challa', 35)\n",
      "2023-12-14 17:29:01,729 INFO sqlalchemy.engine.Engine INSERT INTO hero (name, secret_name, age) VALUES (?, ?, ?) RETURNING id\n",
      "2023-12-14 17:29:01,732 INFO sqlalchemy.engine.Engine [insertmanyvalues 6/7 (ordered; batch not supported)] ('Dr. Weird', 'Steve Weird', 36)\n",
      "2023-12-14 17:29:01,737 INFO sqlalchemy.engine.Engine INSERT INTO hero (name, secret_name, age) VALUES (?, ?, ?) RETURNING id\n",
      "2023-12-14 17:29:01,745 INFO sqlalchemy.engine.Engine [insertmanyvalues 7/7 (ordered; batch not supported)] ('Captain North America', 'Esteban Rogelios', 93)\n",
      "2023-12-14 17:29:01,747 INFO sqlalchemy.engine.Engine COMMIT\n"
     ]
    }
   ],
   "source": [
    "def create_heroes():\n",
    "    hero_1 = Hero(name=\"Deadpond\", secret_name=\"Dive Wilson\")\n",
    "    hero_2 = Hero(name=\"Spider-Boy\", secret_name=\"Pedro Parqueador\")\n",
    "    hero_3 = Hero(name=\"Rusty-Man\", secret_name=\"Tommy Sharp\", age=48)\n",
    "    hero_4 = Hero(name=\"Tarantula\", secret_name=\"Natalia Roman-on\", age=32)\n",
    "    hero_5 = Hero(name=\"Black Lion\", secret_name=\"Trevor Challa\", age=35)\n",
    "    hero_6 = Hero(name=\"Dr. Weird\", secret_name=\"Steve Weird\", age=36)\n",
    "    hero_7 = Hero(name=\"Captain North America\", secret_name=\"Esteban Rogelios\", age=93)\n",
    "\n",
    "    with Session(engine) as session:\n",
    "        session.add(hero_1)\n",
    "        session.add(hero_2)\n",
    "        session.add(hero_3)\n",
    "        session.add(hero_4)\n",
    "        session.add(hero_5)\n",
    "        session.add(hero_6)\n",
    "        session.add(hero_7)\n",
    "\n",
    "        session.commit()\n",
    "\n",
    "create_heroes()"
   ]
  },
  {
   "cell_type": "code",
   "execution_count": 6,
   "metadata": {},
   "outputs": [
    {
     "name": "stdout",
     "output_type": "stream",
     "text": [
      "2023-12-14 17:29:07,441 INFO sqlalchemy.engine.Engine BEGIN (implicit)\n",
      "2023-12-14 17:29:07,443 INFO sqlalchemy.engine.Engine SELECT hero.id, hero.name, hero.secret_name, hero.age \n",
      "FROM hero\n",
      "2023-12-14 17:29:07,444 INFO sqlalchemy.engine.Engine [generated in 0.00113s] ()\n",
      "2023-12-14 17:29:07,447 INFO sqlalchemy.engine.Engine ROLLBACK\n"
     ]
    },
    {
     "data": {
      "text/plain": [
       "[Hero(secret_name='Dive Wilson', age=None, id=1, name='Deadpond'),\n",
       " Hero(secret_name='Pedro Parqueador', age=None, id=2, name='Spider-Boy'),\n",
       " Hero(secret_name='Tommy Sharp', age=48, id=3, name='Rusty-Man'),\n",
       " Hero(secret_name='Dive Wilson', age=None, id=4, name='Deadpond'),\n",
       " Hero(secret_name='Pedro Parqueador', age=None, id=5, name='Spider-Boy'),\n",
       " Hero(secret_name='Tommy Sharp', age=48, id=6, name='Rusty-Man'),\n",
       " Hero(secret_name='Natalia Roman-on', age=32, id=7, name='Tarantula'),\n",
       " Hero(secret_name='Trevor Challa', age=35, id=8, name='Black Lion'),\n",
       " Hero(secret_name='Steve Weird', age=36, id=9, name='Dr. Weird'),\n",
       " Hero(secret_name='Esteban Rogelios', age=93, id=10, name='Captain North America')]"
      ]
     },
     "execution_count": 6,
     "metadata": {},
     "output_type": "execute_result"
    }
   ],
   "source": [
    "# Let's see all the heroes in the DB\n",
    "def select_all_heroes():\n",
    "    with Session(engine) as session:\n",
    "        statement = select(Hero)\n",
    "        heroes = session.exec(statement).all()\n",
    "        return heroes\n",
    "\n",
    "select_all_heroes()"
   ]
  },
  {
   "cell_type": "markdown",
   "metadata": {},
   "source": [
    "### How are there multiple Deadponds now??\n",
    "\n",
    "There are some duplicates, but this is expected because it's the `Primary Key` that serves as the unique identifier, not the hero's name.\n",
    "\n",
    "When we defined the `Hero` class, we marked the `id` as the Primary Key."
   ]
  },
  {
   "cell_type": "code",
   "execution_count": 7,
   "metadata": {},
   "outputs": [
    {
     "name": "stdout",
     "output_type": "stream",
     "text": [
      "2023-12-14 17:29:11,305 INFO sqlalchemy.engine.Engine BEGIN (implicit)\n",
      "2023-12-14 17:29:11,307 INFO sqlalchemy.engine.Engine SELECT hero.id, hero.name, hero.secret_name, hero.age \n",
      "FROM hero \n",
      "WHERE hero.name = ?\n",
      "2023-12-14 17:29:11,309 INFO sqlalchemy.engine.Engine [cached since 21.05s ago] ('Deadpond',)\n",
      "2023-12-14 17:29:11,310 INFO sqlalchemy.engine.Engine ROLLBACK\n"
     ]
    },
    {
     "data": {
      "text/plain": [
       "[Hero(secret_name='Dive Wilson', age=None, id=1, name='Deadpond'),\n",
       " Hero(secret_name='Dive Wilson', age=None, id=4, name='Deadpond')]"
      ]
     },
     "execution_count": 7,
     "metadata": {},
     "output_type": "execute_result"
    }
   ],
   "source": [
    "select_heroes_by_name(\"Deadpond\")"
   ]
  },
  {
   "cell_type": "markdown",
   "metadata": {},
   "source": [
    "## Comparisons\n",
    "\n",
    "* `==` is equal to\n",
    "* `!=` is not equal to\n",
    "* `>` is greater than\n",
    "* `>=` is greater than or equal to\n",
    "* `<` is less than\n",
    "* `<=` is less than or equal to"
   ]
  },
  {
   "cell_type": "markdown",
   "metadata": {},
   "source": [
    "## Multiple WHERE clauses - AND\n",
    "\n",
    "You can chain `WHERE` clauses, but sometimes your filter requires that that you _compound_ the clauses. For example, look at this SQL query:\n",
    "\n",
    "```sql\n",
    "SELECT id, name, secret_name, age\n",
    "FROM hero\n",
    "WHERE age >= 35 AND age < 40\n",
    "```\n",
    "\n",
    "The `AND` keyword adds more constraints to this filter. With this, the database will return heroes that are 35-39 years old!\n",
    "\n",
    "With **SQLModel**, you can do this a few ways:"
   ]
  },
  {
   "cell_type": "code",
   "execution_count": null,
   "metadata": {},
   "outputs": [],
   "source": [
    "def where_with_chains():\n",
    "    with Session(engine) as session:\n",
    "        statement = select(Hero).where(Hero.age >= 35).where(Hero.age < 40)\n",
    "        results = session.exec(statement)\n",
    "        for hero in results:\n",
    "            print(hero)\n",
    "\n",
    "def where_with_expressions():\n",
    "    with Session(engine) as session:\n",
    "        statement = select(Hero).where(Hero.age >= 35, Hero.age < 40)\n",
    "        results = session.exec(statement)\n",
    "        for hero in results:\n",
    "            print(hero)"
   ]
  },
  {
   "cell_type": "markdown",
   "metadata": {},
   "source": [
    "## Multiple WHERE clauses - OR\n",
    "\n",
    "Similar to `AND`, your filters may require the `OR` keyword:\n",
    "\n",
    "```sql\n",
    "SELECT id, name, secret_name, age\n",
    "FROM hero\n",
    "WHERE age <= 35 OR age > 90\n",
    "```\n",
    "\n",
    "With **SQLModel**, you can import `or_`:"
   ]
  },
  {
   "cell_type": "code",
   "execution_count": null,
   "metadata": {},
   "outputs": [],
   "source": [
    "from sqlmodel import or_\n",
    "\n",
    "def select_heroes():\n",
    "    with Session(engine) as session:\n",
    "        statement = select(Hero).where(or_(Hero.age <= 35, Hero.age > 90))\n",
    "        results = session.exec(statement)\n",
    "        for hero in results:\n",
    "            print(hero)"
   ]
  }
 ],
 "metadata": {
  "kernelspec": {
   "display_name": ".venv",
   "language": "python",
   "name": "python3"
  },
  "language_info": {
   "codemirror_mode": {
    "name": "ipython",
    "version": 3
   },
   "file_extension": ".py",
   "mimetype": "text/x-python",
   "name": "python",
   "nbconvert_exporter": "python",
   "pygments_lexer": "ipython3",
   "version": "3.10.1"
  }
 },
 "nbformat": 4,
 "nbformat_minor": 2
}
